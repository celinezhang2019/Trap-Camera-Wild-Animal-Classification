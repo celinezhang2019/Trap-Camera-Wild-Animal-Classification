{
 "cells": [
  {
   "cell_type": "markdown",
   "metadata": {},
   "source": [
    "## The Proposed Model - AlexNet_S"
   ]
  },
  {
   "cell_type": "code",
   "execution_count": 1,
   "metadata": {},
   "outputs": [],
   "source": [
    "%%capture\n",
    "import keras, matplotlib, os, math\n",
    "import keras.backend as K\n",
    "import numpy as np\n",
    "import pandas as pd\n",
    "from keras.models import Model\n",
    "from keras.layers import Input, Dense, Conv2D, Conv3D, DepthwiseConv2D, SeparableConv2D, Conv3DTranspose\n",
    "from keras.layers import Flatten, MaxPool2D, AvgPool2D, GlobalAvgPool2D, UpSampling2D, BatchNormalization\n",
    "from keras.layers import Concatenate, Add, Dropout, ReLU, Lambda, Activation, LeakyReLU, PReLU\n",
    "from keras.utils import np_utils\n",
    "from IPython.display import SVG\n",
    "from keras.utils.vis_utils import model_to_dot\n",
    "from keras.optimizers import SGD\n",
    "from time import time\n",
    "from keras.callbacks import EarlyStopping\n",
    "from sklearn.metrics import confusion_matrix, f1_score, precision_score, recall_score\n",
    "from keras.callbacks import Callback\n",
    "from keras.preprocessing.image import ImageDataGenerator\n",
    "\n",
    "# Assign the GPU\n",
    "os.environ[\"CUDA_VISIBLE_DEVICES\"]=\"2\" "
   ]
  },
  {
   "cell_type": "markdown",
   "metadata": {},
   "source": [
    "### 1.Prepare data"
   ]
  },
  {
   "cell_type": "code",
   "execution_count": 2,
   "metadata": {},
   "outputs": [
    {
     "name": "stdout",
     "output_type": "stream",
     "text": [
      "Loading X_train...\n",
      "Running time: 845.9715702533722 seconds\n"
     ]
    }
   ],
   "source": [
    "# Load the train dataset\n",
    "start_time = time()\n",
    "print('Loading X_train...')\n",
    "X_train = np.load('/home/zxt/data/final_22/224/5k/X_train.npy')\n",
    "end_time = time()\n",
    "print('Running time: %s seconds'%(end_time - start_time))"
   ]
  },
  {
   "cell_type": "code",
   "execution_count": 3,
   "metadata": {},
   "outputs": [
    {
     "data": {
      "text/plain": [
       "88000"
      ]
     },
     "execution_count": 3,
     "metadata": {},
     "output_type": "execute_result"
    }
   ],
   "source": [
    "len(X_train)"
   ]
  },
  {
   "cell_type": "code",
   "execution_count": 4,
   "metadata": {},
   "outputs": [
    {
     "name": "stdout",
     "output_type": "stream",
     "text": [
      "Loading X_validate...\n",
      "Loading X_test...\n",
      "Loading labels...\n",
      "Running time: 212.54451751708984 seconds\n"
     ]
    }
   ],
   "source": [
    "# Load the validate, test datasets, all label data sets \n",
    "start_time = time()\n",
    "\n",
    "print('Loading X_validate...')\n",
    "X_validate = np.load('/home/zxt/data/final_22/224/5k/X_validate.npy')\n",
    "print('Loading X_test...')\n",
    "X_test = np.load('/home/zxt/data/final_22/224/5k/X_test.npy')\n",
    "print('Loading labels...')\n",
    "Y_train = np.load('/home/zxt/data/final_22/224/5k/Y_train.npy')\n",
    "Y_validate = np.load('/home/zxt/data/final_22/224/5k/Y_validate.npy')\n",
    "Y_test = np.load('/home/zxt/data/final_22/224/5k/Y_test.npy')\n",
    "\n",
    "end_time = time()\n",
    "print('Running time: %s seconds'%(end_time - start_time))"
   ]
  },
  {
   "cell_type": "code",
   "execution_count": 5,
   "metadata": {},
   "outputs": [
    {
     "name": "stdout",
     "output_type": "stream",
     "text": [
      "X_train shape: (88000, 224, 224, 3)\n",
      "88000 train samples\n",
      "11000 validate samples\n",
      "11000 test samples\n"
     ]
    }
   ],
   "source": [
    "# Check the size\n",
    "print('X_train shape:', X_train.shape)\n",
    "print(X_train.shape[0], 'train samples')\n",
    "print(X_validate.shape[0], 'validate samples')\n",
    "print(X_test.shape[0], 'test samples')"
   ]
  },
  {
   "cell_type": "code",
   "execution_count": 6,
   "metadata": {},
   "outputs": [
    {
     "data": {
      "text/plain": [
       "(88000, 1)"
      ]
     },
     "execution_count": 6,
     "metadata": {},
     "output_type": "execute_result"
    }
   ],
   "source": [
    "Y_train.shape"
   ]
  },
  {
   "cell_type": "code",
   "execution_count": 7,
   "metadata": {},
   "outputs": [
    {
     "data": {
      "text/plain": [
       "(11000, 1)"
      ]
     },
     "execution_count": 7,
     "metadata": {},
     "output_type": "execute_result"
    }
   ],
   "source": [
    "Y_validate.shape"
   ]
  },
  {
   "cell_type": "code",
   "execution_count": 8,
   "metadata": {},
   "outputs": [
    {
     "data": {
      "text/plain": [
       "(11000, 1)"
      ]
     },
     "execution_count": 8,
     "metadata": {},
     "output_type": "execute_result"
    }
   ],
   "source": [
    "Y_test.shape"
   ]
  },
  {
   "cell_type": "code",
   "execution_count": 9,
   "metadata": {},
   "outputs": [],
   "source": [
    "# Data Normalization\n",
    "X_train /=255.\n",
    "X_validate /=  255.\n",
    "X_test /= 255."
   ]
  },
  {
   "cell_type": "code",
   "execution_count": 10,
   "metadata": {},
   "outputs": [
    {
     "data": {
      "text/plain": [
       "array([['fox'],\n",
       "       ['skunk'],\n",
       "       ['wildebeest'],\n",
       "       ...,\n",
       "       ['zebra'],\n",
       "       ['buffalo'],\n",
       "       ['racoon']], dtype='<U16')"
      ]
     },
     "execution_count": 10,
     "metadata": {},
     "output_type": "execute_result"
    }
   ],
   "source": [
    "# Check the original labels\n",
    "Y_test"
   ]
  },
  {
   "cell_type": "code",
   "execution_count": 11,
   "metadata": {},
   "outputs": [],
   "source": [
    "# Prepare for one-hot encoding\n",
    "# Y_train label\n",
    "for i in Y_train:\n",
    "    if i[0]=='elephant':\n",
    "        i[0]=0\n",
    "    if i[0]=='wild_boar':\n",
    "        i[0]=1\n",
    "    if i[0]=='gazellethomosons':\n",
    "        i[0]=2\n",
    "    if i[0]=='squirrel':\n",
    "        i[0]=3 \n",
    "    if i[0]=='hedgehog':\n",
    "        i[0]=4\n",
    "    if i[0]=='guineafowl':\n",
    "        i[0]=5\n",
    "    if i[0]=='moose':\n",
    "        i[0]=6\n",
    "    if i[0]=='coyote':\n",
    "        i[0]=7   \n",
    "    if i[0]=='bird':\n",
    "        i[0]=8\n",
    "    if i[0]=='fox':\n",
    "        i[0]=9\n",
    "    if i[0]=='giraffe':\n",
    "        i[0]=10\n",
    "    if i[0]=='buffalo':\n",
    "        i[0]=11\n",
    "    if i[0]=='hare':\n",
    "        i[0]=12\n",
    "    if i[0]=='vehicle':\n",
    "        i[0]=13\n",
    "    if i[0]=='wildebeest':\n",
    "        i[0]=14\n",
    "    if i[0]=='cattle':\n",
    "        i[0]=15 \n",
    "    if i[0]=='skunk':\n",
    "        i[0]=16\n",
    "    if i[0]=='lion':\n",
    "        i[0]=17\n",
    "    if i[0]=='zebra':\n",
    "        i[0]=18\n",
    "    if i[0]=='black_bear':\n",
    "        i[0]=19\n",
    "    if i[0]=='racoon':\n",
    "        i[0]=20\n",
    "    if i[0]=='empty':\n",
    "        i[0]=21\n",
    "        \n",
    "for i in Y_validate:\n",
    "    if i[0]=='elephant':\n",
    "        i[0]=0\n",
    "    if i[0]=='wild_boar':\n",
    "        i[0]=1\n",
    "    if i[0]=='gazellethomosons':\n",
    "        i[0]=2\n",
    "    if i[0]=='squirrel':\n",
    "        i[0]=3 \n",
    "    if i[0]=='hedgehog':\n",
    "        i[0]=4\n",
    "    if i[0]=='guineafowl':\n",
    "        i[0]=5\n",
    "    if i[0]=='moose':\n",
    "        i[0]=6\n",
    "    if i[0]=='coyote':\n",
    "        i[0]=7   \n",
    "    if i[0]=='bird':\n",
    "        i[0]=8\n",
    "    if i[0]=='fox':\n",
    "        i[0]=9\n",
    "    if i[0]=='giraffe':\n",
    "        i[0]=10\n",
    "    if i[0]=='buffalo':\n",
    "        i[0]=11\n",
    "    if i[0]=='hare':\n",
    "        i[0]=12\n",
    "    if i[0]=='vehicle':\n",
    "        i[0]=13\n",
    "    if i[0]=='wildebeest':\n",
    "        i[0]=14\n",
    "    if i[0]=='cattle':\n",
    "        i[0]=15 \n",
    "    if i[0]=='skunk':\n",
    "        i[0]=16\n",
    "    if i[0]=='lion':\n",
    "        i[0]=17\n",
    "    if i[0]=='zebra':\n",
    "        i[0]=18\n",
    "    if i[0]=='black_bear':\n",
    "        i[0]=19\n",
    "    if i[0]=='racoon':\n",
    "        i[0]=20\n",
    "    if i[0]=='empty':\n",
    "        i[0]=21\n",
    "\n",
    "for i in Y_test:\n",
    "    if i[0]=='elephant':\n",
    "        i[0]=0\n",
    "    if i[0]=='wild_boar':\n",
    "        i[0]=1\n",
    "    if i[0]=='gazellethomosons':\n",
    "        i[0]=2\n",
    "    if i[0]=='squirrel':\n",
    "        i[0]=3 \n",
    "    if i[0]=='hedgehog':\n",
    "        i[0]=4\n",
    "    if i[0]=='guineafowl':\n",
    "        i[0]=5\n",
    "    if i[0]=='moose':\n",
    "        i[0]=6\n",
    "    if i[0]=='coyote':\n",
    "        i[0]=7   \n",
    "    if i[0]=='bird':\n",
    "        i[0]=8\n",
    "    if i[0]=='fox':\n",
    "        i[0]=9\n",
    "    if i[0]=='giraffe':\n",
    "        i[0]=10\n",
    "    if i[0]=='buffalo':\n",
    "        i[0]=11\n",
    "    if i[0]=='hare':\n",
    "        i[0]=12\n",
    "    if i[0]=='vehicle':\n",
    "        i[0]=13\n",
    "    if i[0]=='wildebeest':\n",
    "        i[0]=14\n",
    "    if i[0]=='cattle':\n",
    "        i[0]=15 \n",
    "    if i[0]=='skunk':\n",
    "        i[0]=16\n",
    "    if i[0]=='lion':\n",
    "        i[0]=17\n",
    "    if i[0]=='zebra':\n",
    "        i[0]=18\n",
    "    if i[0]=='black_bear':\n",
    "        i[0]=19\n",
    "    if i[0]=='racoon':\n",
    "        i[0]=20\n",
    "    if i[0]=='empty':\n",
    "        i[0]=21"
   ]
  },
  {
   "cell_type": "code",
   "execution_count": 12,
   "metadata": {},
   "outputs": [],
   "source": [
    "# Transform the Y_train, Y_validate, Y_test to One-hot encoder\n",
    "from keras.utils import np_utils\n",
    "y_train=np_utils.to_categorical(Y_train,22)\n",
    "y_valid=np_utils.to_categorical(Y_validate,22)\n",
    "y_test=np_utils.to_categorical(Y_test,22)"
   ]
  },
  {
   "cell_type": "code",
   "execution_count": 13,
   "metadata": {},
   "outputs": [
    {
     "data": {
      "text/plain": [
       "array([[0., 0., 0., ..., 0., 0., 0.],\n",
       "       [0., 0., 0., ..., 0., 0., 0.],\n",
       "       [0., 0., 0., ..., 0., 0., 0.],\n",
       "       ...,\n",
       "       [0., 0., 0., ..., 0., 0., 0.],\n",
       "       [0., 0., 0., ..., 0., 0., 0.],\n",
       "       [0., 0., 0., ..., 0., 1., 0.]], dtype=float32)"
      ]
     },
     "execution_count": 13,
     "metadata": {},
     "output_type": "execute_result"
    }
   ],
   "source": [
    "# Check the one-hot encoding transformation\n",
    "y_test"
   ]
  },
  {
   "cell_type": "markdown",
   "metadata": {},
   "source": [
    "### 2.Model structure"
   ]
  },
  {
   "cell_type": "code",
   "execution_count": 14,
   "metadata": {},
   "outputs": [],
   "source": [
    "# Defind the AlexNet_S model architecture\n",
    "def alexnet_s(input_shape, n_classes):\n",
    "    input = Input(input_shape)\n",
    "  \n",
    "    '''Actually batch normalization didn't exist back then in 2012,\n",
    "       they used LRN (Local Response Normalization) for regularization,\n",
    "       now the BatchNormalization works the same\n",
    "    '''\n",
    "    x = Conv2D(96, 11, strides=4, padding='same', activation='relu')(input)\n",
    "    x = BatchNormalization()(x)\n",
    "    x = MaxPool2D(3, strides=2)(x)\n",
    "  \n",
    "    x = Conv2D(256, 5, padding='same', activation='relu')(x)\n",
    "    x = BatchNormalization()(x)\n",
    "    x = MaxPool2D(3, strides=2)(x)\n",
    "  \n",
    "    x = Conv2D(384, 3, strides=1, padding='same', activation='relu')(x)\n",
    "  \n",
    "    x = Conv2D(384, 3, strides=1, padding='same', activation='relu')(x)\n",
    "  \n",
    "    x = Conv2D(256, 3, strides=1, padding='same', activation='relu')(x)\n",
    "    x = BatchNormalization()(x)\n",
    "    x = MaxPool2D(3, strides=2)(x)\n",
    "  \n",
    "    x = Flatten()(x)\n",
    "    x = Dense(4096, activation='relu')(x)\n",
    "    x = Dense(4096, activation='relu')(x)\n",
    "    \n",
    "    # S: add two more layers to train\n",
    "    x = Dropout(0.4)(x)\n",
    "    x = Dense(4096,activation='relu')(x)\n",
    "    x = Dropout(0.4)(x)\n",
    "    x = Dense(4096,activation='relu')(x)\n",
    "    \n",
    "  \n",
    "    output = Dense(n_classes, activation='softmax')(x)\n",
    "  \n",
    "    model = Model(input, output)\n",
    "    return model"
   ]
  },
  {
   "cell_type": "code",
   "execution_count": null,
   "metadata": {},
   "outputs": [],
   "source": [
    "# prevent overfitting\n",
    "early_stopping = EarlyStopping(monitor='val_loss', patience=10, verbose=1)"
   ]
  },
  {
   "cell_type": "markdown",
   "metadata": {},
   "source": [
    "#### 3*.Data Augmentation"
   ]
  },
  {
   "cell_type": "code",
   "execution_count": null,
   "metadata": {},
   "outputs": [],
   "source": [
    "# Data augmentation [Not being used for the final model as it requires 250GB+ ram which exceeds our maximum 208GB ram; but can work on 44000 samples]\n",
    "\n",
    "image_datagen = ImageDataGenerator(\n",
    "    rotation_range=30,\n",
    "    width_shift_range=0.2,\n",
    "    height_shift_range=0.2,\n",
    "    shear_range=0.3,\n",
    "    zoom_range=0.2,\n",
    "    horizontal_flip=True,\n",
    "    brightness_range=(0.6,1),\n",
    "    fill_mode=\"nearest\")\n",
    "\n",
    "image_datagen.fit(X_train, augment=True)"
   ]
  },
  {
   "cell_type": "markdown",
   "metadata": {},
   "source": [
    "### 3.Modeling"
   ]
  },
  {
   "cell_type": "code",
   "execution_count": 19,
   "metadata": {},
   "outputs": [],
   "source": [
    "# Define the hyperparameters\n",
    "num_train_samples = len(Y_train)\n",
    "num_val_samples = len(Y_validate)\n",
    "batch_size = 128\n",
    "epochs = 40\n",
    "n_classes = 22\n",
    "input_shape = 224,224,3\n",
    "\n",
    "learning_rate = 0.01\n",
    "decay_rate = learning_rate / epochs\n",
    "momentum = 0.8\n",
    "sgd = SGD(lr=learning_rate, momentum=momentum, decay=decay_rate, nesterov=False)"
   ]
  },
  {
   "cell_type": "code",
   "execution_count": 20,
   "metadata": {},
   "outputs": [],
   "source": [
    "# Present the model summary\n",
    "K.clear_session()\n",
    "model  = None\n",
    "model = alexnet_s(input_shape, n_classes)\n",
    "model.summary()"
   ]
  },
  {
   "cell_type": "code",
   "execution_count": 21,
   "metadata": {},
   "outputs": [],
   "source": [
    "# Compile the model\n",
    "model.compile(loss='categorical_crossentropy',optimizer=sgd,metrics=['accuracy'])"
   ]
  },
  {
   "cell_type": "code",
   "execution_count": 22,
   "metadata": {},
   "outputs": [
    {
     "name": "stdout",
     "output_type": "stream",
     "text": [
      "Training model...\n",
      "Train on 88000 samples, validate on 11000 samples\n",
      "Epoch 1/40\n",
      "88000/88000 [==============================] - 425s 5ms/step - loss: 1.5821 - accuracy: 0.4660 - val_loss: 1.2058 - val_accuracy: 0.5825\n",
      "Epoch 2/40\n",
      "88000/88000 [==============================] - 419s 5ms/step - loss: 1.0274 - accuracy: 0.6476 - val_loss: 1.1144 - val_accuracy: 0.6147\n",
      "Epoch 3/40\n",
      "88000/88000 [==============================] - 420s 5ms/step - loss: 0.8015 - accuracy: 0.7259 - val_loss: 0.7843 - val_accuracy: 0.7281\n",
      "Epoch 4/40\n",
      "88000/88000 [==============================] - 417s 5ms/step - loss: 0.6403 - accuracy: 0.7816 - val_loss: 0.6415 - val_accuracy: 0.7804\n",
      "Epoch 5/40\n",
      "88000/88000 [==============================] - 414s 5ms/step - loss: 0.5249 - accuracy: 0.8194 - val_loss: 0.6294 - val_accuracy: 0.7823\n",
      "Epoch 6/40\n",
      "88000/88000 [==============================] - 412s 5ms/step - loss: 0.4248 - accuracy: 0.8539 - val_loss: 0.5392 - val_accuracy: 0.8215\n",
      "Epoch 7/40\n",
      "88000/88000 [==============================] - 419s 5ms/step - loss: 0.3461 - accuracy: 0.8808 - val_loss: 0.5387 - val_accuracy: 0.8247\n",
      "Epoch 8/40\n",
      "88000/88000 [==============================] - 419s 5ms/step - loss: 0.2789 - accuracy: 0.9041 - val_loss: 0.4629 - val_accuracy: 0.8541\n",
      "Epoch 9/40\n",
      "88000/88000 [==============================] - 415s 5ms/step - loss: 0.2267 - accuracy: 0.9222 - val_loss: 0.4487 - val_accuracy: 0.8598\n",
      "Epoch 10/40\n",
      "88000/88000 [==============================] - 413s 5ms/step - loss: 0.1881 - accuracy: 0.9359 - val_loss: 0.4542 - val_accuracy: 0.8644\n",
      "Epoch 11/40\n",
      "88000/88000 [==============================] - 417s 5ms/step - loss: 0.1499 - accuracy: 0.9484 - val_loss: 0.4667 - val_accuracy: 0.8690\n",
      "Epoch 12/40\n",
      "88000/88000 [==============================] - 420s 5ms/step - loss: 0.1225 - accuracy: 0.9589 - val_loss: 0.5170 - val_accuracy: 0.8676\n",
      "Epoch 13/40\n",
      "88000/88000 [==============================] - 420s 5ms/step - loss: 0.1006 - accuracy: 0.9660 - val_loss: 0.4869 - val_accuracy: 0.8823\n",
      "Epoch 14/40\n",
      "88000/88000 [==============================] - 417s 5ms/step - loss: 0.0838 - accuracy: 0.9722 - val_loss: 0.4829 - val_accuracy: 0.8855\n",
      "Epoch 15/40\n",
      "88000/88000 [==============================] - 415s 5ms/step - loss: 0.0693 - accuracy: 0.9774 - val_loss: 0.4997 - val_accuracy: 0.8853\n",
      "Epoch 16/40\n",
      "88000/88000 [==============================] - 421s 5ms/step - loss: 0.0603 - accuracy: 0.9796 - val_loss: 0.5104 - val_accuracy: 0.8857\n",
      "Epoch 17/40\n",
      "88000/88000 [==============================] - 424s 5ms/step - loss: 0.0511 - accuracy: 0.9831 - val_loss: 0.5436 - val_accuracy: 0.8845\n",
      "Epoch 18/40\n",
      "88000/88000 [==============================] - 425s 5ms/step - loss: 0.0413 - accuracy: 0.9862 - val_loss: 0.5209 - val_accuracy: 0.8895\n",
      "Epoch 19/40\n",
      "88000/88000 [==============================] - 423s 5ms/step - loss: 0.0390 - accuracy: 0.9873 - val_loss: 0.5490 - val_accuracy: 0.8895\n",
      "Epoch 20/40\n",
      "88000/88000 [==============================] - 424s 5ms/step - loss: 0.0327 - accuracy: 0.9895 - val_loss: 0.5520 - val_accuracy: 0.8926\n",
      "Epoch 21/40\n",
      "88000/88000 [==============================] - 423s 5ms/step - loss: 0.0274 - accuracy: 0.9910 - val_loss: 0.5438 - val_accuracy: 0.8950\n",
      "Epoch 22/40\n",
      "88000/88000 [==============================] - 424s 5ms/step - loss: 0.0244 - accuracy: 0.9921 - val_loss: 0.5759 - val_accuracy: 0.8948\n",
      "Epoch 23/40\n",
      "88000/88000 [==============================] - 423s 5ms/step - loss: 0.0217 - accuracy: 0.9929 - val_loss: 0.5807 - val_accuracy: 0.8930\n",
      "Epoch 24/40\n",
      "88000/88000 [==============================] - 424s 5ms/step - loss: 0.0200 - accuracy: 0.9936 - val_loss: 0.5874 - val_accuracy: 0.8992\n",
      "Epoch 25/40\n",
      "88000/88000 [==============================] - 423s 5ms/step - loss: 0.0161 - accuracy: 0.9951 - val_loss: 0.6181 - val_accuracy: 0.8949\n",
      "Epoch 26/40\n",
      "88000/88000 [==============================] - 424s 5ms/step - loss: 0.0149 - accuracy: 0.9954 - val_loss: 0.6083 - val_accuracy: 0.8965\n",
      "Epoch 27/40\n",
      "88000/88000 [==============================] - 423s 5ms/step - loss: 0.0136 - accuracy: 0.9959 - val_loss: 0.5939 - val_accuracy: 0.8997\n",
      "Epoch 28/40\n",
      "88000/88000 [==============================] - 424s 5ms/step - loss: 0.0124 - accuracy: 0.9960 - val_loss: 0.6263 - val_accuracy: 0.8978\n",
      "Epoch 29/40\n",
      "88000/88000 [==============================] - 423s 5ms/step - loss: 0.0110 - accuracy: 0.9967 - val_loss: 0.6184 - val_accuracy: 0.8978\n",
      "Epoch 30/40\n",
      "88000/88000 [==============================] - 424s 5ms/step - loss: 0.0096 - accuracy: 0.9973 - val_loss: 0.6092 - val_accuracy: 0.8982\n",
      "Epoch 31/40\n",
      "88000/88000 [==============================] - 423s 5ms/step - loss: 0.0094 - accuracy: 0.9971 - val_loss: 0.6377 - val_accuracy: 0.8994\n",
      "Epoch 32/40\n",
      "88000/88000 [==============================] - 424s 5ms/step - loss: 0.0094 - accuracy: 0.9972 - val_loss: 0.6230 - val_accuracy: 0.9017\n",
      "Epoch 33/40\n",
      "88000/88000 [==============================] - 423s 5ms/step - loss: 0.0075 - accuracy: 0.9979 - val_loss: 0.6460 - val_accuracy: 0.8991\n",
      "Epoch 34/40\n",
      "88000/88000 [==============================] - 424s 5ms/step - loss: 0.0072 - accuracy: 0.9980 - val_loss: 0.6290 - val_accuracy: 0.9015\n",
      "Epoch 35/40\n",
      "88000/88000 [==============================] - 423s 5ms/step - loss: 0.0065 - accuracy: 0.9984 - val_loss: 0.6321 - val_accuracy: 0.9020\n",
      "Epoch 36/40\n",
      "88000/88000 [==============================] - 424s 5ms/step - loss: 0.0064 - accuracy: 0.9982 - val_loss: 0.6471 - val_accuracy: 0.9013\n",
      "Epoch 37/40\n",
      "88000/88000 [==============================] - 423s 5ms/step - loss: 0.0062 - accuracy: 0.9982 - val_loss: 0.6442 - val_accuracy: 0.9009\n",
      "Epoch 38/40\n",
      "88000/88000 [==============================] - 424s 5ms/step - loss: 0.0053 - accuracy: 0.9986 - val_loss: 0.6470 - val_accuracy: 0.9025\n",
      "Epoch 39/40\n",
      "88000/88000 [==============================] - 423s 5ms/step - loss: 0.0049 - accuracy: 0.9987 - val_loss: 0.6555 - val_accuracy: 0.9010\n",
      "Epoch 40/40\n",
      "88000/88000 [==============================] - 424s 5ms/step - loss: 0.0043 - accuracy: 0.9989 - val_loss: 0.6462 - val_accuracy: 0.9040\n",
      "Running time: 16852.02788090706 seconds\n"
     ]
    }
   ],
   "source": [
    "# Model Training\n",
    "start_time = time()\n",
    "print('Training model...')\n",
    "\n",
    "hist = model.fit(\n",
    "    X_train, \n",
    "    y_train,\n",
    "    batch_size=batch_size,\n",
    "    epochs=epochs,\n",
    "#     callbacks=[early_stopping],\n",
    "    validation_data = (X_validate,y_valid))\n",
    "\n",
    "end_time = time()\n",
    "print('Running time: %s seconds'%(end_time - start_time))"
   ]
  },
  {
   "cell_type": "code",
   "execution_count": 23,
   "metadata": {},
   "outputs": [],
   "source": [
    "# Save the model package\n",
    "model.save('/home/zxt/model_files/alexnet_s_40epoch.h5')\n",
    "model.save_weights('/home/zxt/model_files/alexnet_s_40epoch_weights.h5')\n",
    "model.save_weights('/home/zxt/model_files/alexnet_s_40epoch_weights.ckpt')"
   ]
  },
  {
   "cell_type": "markdown",
   "metadata": {},
   "source": [
    "### 4.Evaluation"
   ]
  },
  {
   "cell_type": "code",
   "execution_count": 24,
   "metadata": {},
   "outputs": [
    {
     "data": {
      "text/plain": [
       "<matplotlib.axes._subplots.AxesSubplot at 0x7f3fcddfc510>"
      ]
     },
     "execution_count": 24,
     "metadata": {},
     "output_type": "execute_result"
    }
   ],
   "source": [
    "# Observe the training iterations loss/accuracy plot\n",
    "history_df = pd.DataFrame(hist.history)\n",
    "history_df[['loss', 'val_loss']].plot()\n",
    "history_df[['accuracy', 'val_accuracy']].plot()"
   ]
  },
  {
   "cell_type": "markdown",
   "metadata": {},
   "source": [
    "### 5.Prediction on X_test dataset"
   ]
  },
  {
   "cell_type": "code",
   "execution_count": 25,
   "metadata": {},
   "outputs": [
    {
     "name": "stdout",
     "output_type": "stream",
     "text": [
      "11000/11000 [==============================] - 30s 3ms/step\n",
      "\n",
      "test loss 0.6951521164311774\n",
      "accuracy 0.9008181691169739\n"
     ]
    }
   ],
   "source": [
    "# Check the predcition accuracy on test data set\n",
    "loss,accuracy = model.evaluate(X_test,y_test)\n",
    "print('\\ntest loss',loss)\n",
    "print('accuracy',accuracy)"
   ]
  },
  {
   "cell_type": "code",
   "execution_count": 26,
   "metadata": {},
   "outputs": [],
   "source": [
    "y_pred = model.predict(X_test,batch_size=1)"
   ]
  },
  {
   "cell_type": "code",
   "execution_count": 27,
   "metadata": {},
   "outputs": [
    {
     "data": {
      "text/plain": [
       "array([[2.11744388e-15, 3.55389294e-11, 1.32219092e-13, ...,\n",
       "        5.50069856e-09, 7.36056505e-09, 9.29108526e-11],\n",
       "       [2.59492217e-29, 7.06001134e-19, 6.92429785e-28, ...,\n",
       "        1.79426693e-19, 1.41981773e-23, 8.57712670e-27],\n",
       "       [2.74018530e-05, 2.41039115e-14, 9.35155622e-05, ...,\n",
       "        2.65202806e-17, 1.61754967e-11, 3.48511567e-05],\n",
       "       ...,\n",
       "       [5.57477360e-05, 7.88359991e-14, 4.68837989e-11, ...,\n",
       "        3.76579625e-15, 2.46456975e-14, 1.82276153e-07],\n",
       "       [1.14163306e-07, 8.62780415e-17, 4.69466163e-20, ...,\n",
       "        1.48811715e-20, 3.23430305e-21, 1.63550740e-18],\n",
       "       [1.81745509e-15, 2.25600093e-14, 3.97152033e-11, ...,\n",
       "        3.85610597e-14, 9.99998450e-01, 1.17957491e-07]], dtype=float32)"
      ]
     },
     "execution_count": 27,
     "metadata": {},
     "output_type": "execute_result"
    }
   ],
   "source": [
    "y_pred"
   ]
  },
  {
   "cell_type": "code",
   "execution_count": 28,
   "metadata": {},
   "outputs": [
    {
     "data": {
      "text/plain": [
       "11000"
      ]
     },
     "execution_count": 28,
     "metadata": {},
     "output_type": "execute_result"
    }
   ],
   "source": [
    "len(y_pred)"
   ]
  },
  {
   "cell_type": "markdown",
   "metadata": {},
   "source": [
    "### 6.Check each category recall"
   ]
  },
  {
   "cell_type": "code",
   "execution_count": 29,
   "metadata": {},
   "outputs": [],
   "source": [
    "# Check each class recall for the bar chart of the report\n",
    "a = list(y_pred)\n",
    "y_prediction=[]\n",
    "for i in a:\n",
    "    j =list(i)\n",
    "    y_prediction.append(j.index(max(j)))"
   ]
  },
  {
   "cell_type": "code",
   "execution_count": 30,
   "metadata": {},
   "outputs": [
    {
     "data": {
      "text/plain": [
       "[9, 16, 18, 10, 3]"
      ]
     },
     "execution_count": 30,
     "metadata": {},
     "output_type": "execute_result"
    }
   ],
   "source": [
    "y_prediction[:5]"
   ]
  },
  {
   "cell_type": "code",
   "execution_count": 31,
   "metadata": {},
   "outputs": [
    {
     "data": {
      "text/plain": [
       "array([['9'],\n",
       "       ['16'],\n",
       "       ['14'],\n",
       "       ['10'],\n",
       "       ['3']], dtype='<U16')"
      ]
     },
     "execution_count": 31,
     "metadata": {},
     "output_type": "execute_result"
    }
   ],
   "source": [
    "Y_test[:5]"
   ]
  },
  {
   "cell_type": "code",
   "execution_count": 32,
   "metadata": {},
   "outputs": [],
   "source": [
    "# array to dataframe\n",
    "y_real=pd.DataFrame(Y_test,columns=['label'])"
   ]
  },
  {
   "cell_type": "code",
   "execution_count": 33,
   "metadata": {},
   "outputs": [],
   "source": [
    "y_predict = pd.DataFrame(y_prediction,columns=['label_pre'])"
   ]
  },
  {
   "cell_type": "code",
   "execution_count": 34,
   "metadata": {},
   "outputs": [],
   "source": [
    "prediction_df = pd.concat([y_real,y_predict],axis=1)\n",
    "prediction_df['label']=prediction_df['label'].astype(int)\n",
    "prediction_df['diff']=prediction_df['label']-prediction_df['label_pre']\n"
   ]
  },
  {
   "cell_type": "code",
   "execution_count": 35,
   "metadata": {},
   "outputs": [
    {
     "data": {
      "text/html": [
       "<div>\n",
       "<style scoped>\n",
       "    .dataframe tbody tr th:only-of-type {\n",
       "        vertical-align: middle;\n",
       "    }\n",
       "\n",
       "    .dataframe tbody tr th {\n",
       "        vertical-align: top;\n",
       "    }\n",
       "\n",
       "    .dataframe thead th {\n",
       "        text-align: right;\n",
       "    }\n",
       "</style>\n",
       "<table border=\"1\" class=\"dataframe\">\n",
       "  <thead>\n",
       "    <tr style=\"text-align: right;\">\n",
       "      <th></th>\n",
       "      <th>label</th>\n",
       "      <th>label_pre</th>\n",
       "      <th>diff</th>\n",
       "    </tr>\n",
       "  </thead>\n",
       "  <tbody>\n",
       "    <tr>\n",
       "      <td>0</td>\n",
       "      <td>9</td>\n",
       "      <td>9</td>\n",
       "      <td>0</td>\n",
       "    </tr>\n",
       "    <tr>\n",
       "      <td>1</td>\n",
       "      <td>16</td>\n",
       "      <td>16</td>\n",
       "      <td>0</td>\n",
       "    </tr>\n",
       "    <tr>\n",
       "      <td>2</td>\n",
       "      <td>14</td>\n",
       "      <td>18</td>\n",
       "      <td>-4</td>\n",
       "    </tr>\n",
       "    <tr>\n",
       "      <td>3</td>\n",
       "      <td>10</td>\n",
       "      <td>10</td>\n",
       "      <td>0</td>\n",
       "    </tr>\n",
       "    <tr>\n",
       "      <td>4</td>\n",
       "      <td>3</td>\n",
       "      <td>3</td>\n",
       "      <td>0</td>\n",
       "    </tr>\n",
       "    <tr>\n",
       "      <td>...</td>\n",
       "      <td>...</td>\n",
       "      <td>...</td>\n",
       "      <td>...</td>\n",
       "    </tr>\n",
       "    <tr>\n",
       "      <td>10995</td>\n",
       "      <td>0</td>\n",
       "      <td>10</td>\n",
       "      <td>-10</td>\n",
       "    </tr>\n",
       "    <tr>\n",
       "      <td>10996</td>\n",
       "      <td>15</td>\n",
       "      <td>15</td>\n",
       "      <td>0</td>\n",
       "    </tr>\n",
       "    <tr>\n",
       "      <td>10997</td>\n",
       "      <td>18</td>\n",
       "      <td>18</td>\n",
       "      <td>0</td>\n",
       "    </tr>\n",
       "    <tr>\n",
       "      <td>10998</td>\n",
       "      <td>11</td>\n",
       "      <td>11</td>\n",
       "      <td>0</td>\n",
       "    </tr>\n",
       "    <tr>\n",
       "      <td>10999</td>\n",
       "      <td>20</td>\n",
       "      <td>20</td>\n",
       "      <td>0</td>\n",
       "    </tr>\n",
       "  </tbody>\n",
       "</table>\n",
       "<p>11000 rows × 3 columns</p>\n",
       "</div>"
      ],
      "text/plain": [
       "       label  label_pre  diff\n",
       "0          9          9     0\n",
       "1         16         16     0\n",
       "2         14         18    -4\n",
       "3         10         10     0\n",
       "4          3          3     0\n",
       "...      ...        ...   ...\n",
       "10995      0         10   -10\n",
       "10996     15         15     0\n",
       "10997     18         18     0\n",
       "10998     11         11     0\n",
       "10999     20         20     0\n",
       "\n",
       "[11000 rows x 3 columns]"
      ]
     },
     "execution_count": 35,
     "metadata": {},
     "output_type": "execute_result"
    }
   ],
   "source": [
    "prediction_df"
   ]
  },
  {
   "cell_type": "code",
   "execution_count": 36,
   "metadata": {},
   "outputs": [],
   "source": [
    "# Save the correctly and wrongly classified observation information\n",
    "prediction_df.to_csv(r'/home/zxt/data/final_22/prediction/alexnet_s_predictdiff.csv',index=False)"
   ]
  },
  {
   "cell_type": "code",
   "execution_count": 37,
   "metadata": {},
   "outputs": [
    {
     "name": "stdout",
     "output_type": "stream",
     "text": [
      "elephant recall:      0.878\n",
      "wild_boar recall:      0.804\n",
      "gazellethomosons recall:      0.932\n",
      "squirrel recall:      0.930\n",
      "hedgehog recall:      0.998\n",
      "guineafowl recall:      0.965\n",
      "moose recall:      0.992\n",
      "coyote recall:      0.926\n",
      "bird recall:      0.879\n",
      "fox recall:      0.868\n",
      "giraffe recall:      0.947\n",
      "buffalo recall:      0.849\n",
      "hare recall:      0.973\n",
      "vehicle recall:      0.929\n",
      "wildebeest recall:      0.777\n",
      "cattle recall:      0.809\n",
      "skunk recall:      0.924\n",
      "lion recall:      0.830\n",
      "zebra recall:      0.850\n",
      "black_bear recall:      0.899\n",
      "racoon recall:      0.958\n",
      "empty recall:      0.904\n"
     ]
    }
   ],
   "source": [
    "onehot_keylist = ['elephant','wild_boar','gazellethomosons','squirrel','hedgehog','guineafowl','moose','coyote','bird',\n",
    "                  'fox','giraffe','buffalo','hare','vehicle','wildebeest','cattle','skunk','lion','zebra','black_bear',\n",
    "                  'racoon','empty']\n",
    "onehot_dict = {'elephant':0,'wild_boar':1,'gazellethomosons':2,'squirrel':3,'hedgehog':4,'guineafowl':5,'moose':6,'coyote':7,\n",
    "              'bird':8,'fox':9,'giraffe':10,'buffalo':11,'hare':12,'vehicle':13,'wildebeest':14,'cattle':15,'skunk':16,'lion':17,\n",
    "              'zebra':18,'black_bear':19,'racoon':20,'empty':21}\n",
    "\n",
    "for animal in onehot_keylist:\n",
    "    name = animal\n",
    "    animal = prediction_df[prediction_df['label']== onehot_dict[animal]]\n",
    "    recall = animal.loc[:,'diff'].value_counts()[0]/len(animal)\n",
    "    print(\"%s recall: %10.3f\" %(name,recall) )"
   ]
  },
  {
   "cell_type": "markdown",
   "metadata": {},
   "source": [
    "### 7.Confusion Matrix"
   ]
  },
  {
   "cell_type": "code",
   "execution_count": 38,
   "metadata": {},
   "outputs": [],
   "source": [
    "# Prepare for generating Confusion Matrix\n",
    "animal_label_dict = {0:'elephant',1:'wild_boar',2:'gazellethomosons',3:'squirrel',4:'hedgehog',\n",
    "                    5:'guineafowl',6:'moose',7:'coyote',8:'bird',9:'fox',10:'giraffe',\n",
    "                    11:'buffalo',12:'hare',13:'vehicle',14:'wildebeest',15:'cattle',\n",
    "                    16:'skunk',17:'lion',18:'zebra',19:'black_bear',20:'racoon',21:'empty'}     \n",
    "labels=[]\n",
    "for i in range(0,22):\n",
    "    name = animal_label_dict[i]\n",
    "    labels.append(name)"
   ]
  },
  {
   "cell_type": "code",
   "execution_count": 39,
   "metadata": {},
   "outputs": [
    {
     "data": {
      "text/plain": [
       "<matplotlib.axes._subplots.AxesSubplot at 0x7f3fcc119210>"
      ]
     },
     "execution_count": 39,
     "metadata": {},
     "output_type": "execute_result"
    },
    {
     "data": {
      "image/png": "[encoded data removed]",
      "text/plain": [
       "<Figure size 864x720 with 2 Axes>"
      ]
     },
     "metadata": {
      "needs_background": "light"
     },
     "output_type": "display_data"
    }
   ],
   "source": [
    "# Draw the Confusion Matrix \n",
    "import matplotlib as mpl\n",
    "import seaborn as sns\n",
    "import matplotlib.pyplot as plt\n",
    "from IPython.display import display\n",
    "%matplotlib inline\n",
    "# C2=confusion_matrix(test_true_label,prediction_label, labels=labels)\n",
    "C2=confusion_matrix(prediction_df['label'],prediction_df['label_pre'], labels=[0,1,2,3,4,5,6,7,8,9,10,11,12,13,14,15,16,17,18,19,20,21])\n",
    "plt.figure(figsize=(12,10))\n",
    "sns.heatmap(C2,annot=True,cmap=\"Blues\",xticklabels=labels,yticklabels=labels,fmt='.20g')"
   ]
  },
  {
   "cell_type": "markdown",
   "metadata": {},
   "source": [
    "### 8.Precision, recall, f1 score"
   ]
  },
  {
   "cell_type": "code",
   "execution_count": 40,
   "metadata": {},
   "outputs": [
    {
     "name": "stdout",
     "output_type": "stream",
     "text": [
      "              precision    recall  f1-score   support\n",
      "\n",
      "           0       0.84      0.88      0.86       482\n",
      "           1       0.85      0.80      0.83       480\n",
      "           2       0.92      0.93      0.92       487\n",
      "           3       0.88      0.93      0.90       514\n",
      "           4       0.99      1.00      1.00       506\n",
      "           5       0.93      0.97      0.95       461\n",
      "           6       0.97      0.99      0.98       501\n",
      "           7       0.91      0.93      0.92       502\n",
      "           8       0.90      0.88      0.89       488\n",
      "           9       0.89      0.87      0.88       491\n",
      "          10       0.92      0.95      0.93       506\n",
      "          11       0.91      0.85      0.88       517\n",
      "          12       0.92      0.97      0.95       484\n",
      "          13       0.93      0.93      0.93       507\n",
      "          14       0.84      0.78      0.81       507\n",
      "          15       0.85      0.81      0.83       487\n",
      "          16       0.92      0.92      0.92       510\n",
      "          17       0.89      0.83      0.86       528\n",
      "          18       0.80      0.85      0.82       506\n",
      "          19       0.86      0.90      0.88       503\n",
      "          20       0.94      0.96      0.95       521\n",
      "          21       0.96      0.90      0.93       512\n",
      "\n",
      "    accuracy                           0.90     11000\n",
      "   macro avg       0.90      0.90      0.90     11000\n",
      "weighted avg       0.90      0.90      0.90     11000\n",
      "\n"
     ]
    }
   ],
   "source": [
    "# Check each class exact precision, recall, f1 score and support\n",
    "from sklearn.metrics import confusion_matrix, accuracy_score, classification_report\n",
    "print(classification_report(prediction_df['label'],prediction_df['label_pre']))"
   ]
  }
 ],
 "metadata": {
  "kernelspec": {
   "display_name": "Python 3",
   "language": "python",
   "name": "python3"
  },
  "language_info": {
   "codemirror_mode": {
    "name": "ipython",
    "version": 3
   },
   "file_extension": ".py",
   "mimetype": "text/x-python",
   "name": "python",
   "nbconvert_exporter": "python",
   "pygments_lexer": "ipython3",
   "version": "3.6.5"
  }
 },
 "nbformat": 4,
 "nbformat_minor": 4
}
