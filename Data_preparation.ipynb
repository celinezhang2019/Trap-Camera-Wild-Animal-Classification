{
 "cells": [
  {
   "cell_type": "markdown",
   "metadata": {},
   "source": [
    "### Data Preparation"
   ]
  },
  {
   "cell_type": "code",
   "execution_count": 1,
   "metadata": {},
   "outputs": [],
   "source": [
    "import json,pandas as pd, numpy as np, os,csv,random,time\n",
    "import matplotlib.pyplot as plt\n",
    "from sklearn.model_selection import train_test_split\n",
    "import csv,time\n",
    "import numpy as np\n",
    "import pandas as pd\n",
    "import os\n",
    "import matplotlib.pyplot as plt\n",
    "from sklearn.model_selection import train_test_split\n",
    "from tensorflow.keras.preprocessing import image\n",
    "from time import time"
   ]
  },
  {
   "cell_type": "code",
   "execution_count": 2,
   "metadata": {},
   "outputs": [],
   "source": [
    "csv_file = '/home/zxt/data/all/dict_final.csv'\n",
    "csv_data = pd.read_csv(csv_file, low_memory=False)\n",
    "df = pd.DataFrame(csv_data)"
   ]
  },
  {
   "cell_type": "code",
   "execution_count": 3,
   "metadata": {},
   "outputs": [
    {
     "data": {
      "text/plain": [
       "243760"
      ]
     },
     "execution_count": 3,
     "metadata": {},
     "output_type": "execute_result"
    }
   ],
   "source": [
    "len(df)"
   ]
  },
  {
   "cell_type": "code",
   "execution_count": 4,
   "metadata": {},
   "outputs": [
    {
     "data": {
      "text/html": [
       "<div>\n",
       "<style scoped>\n",
       "    .dataframe tbody tr th:only-of-type {\n",
       "        vertical-align: middle;\n",
       "    }\n",
       "\n",
       "    .dataframe tbody tr th {\n",
       "        vertical-align: top;\n",
       "    }\n",
       "\n",
       "    .dataframe thead th {\n",
       "        text-align: right;\n",
       "    }\n",
       "</style>\n",
       "<table border=\"1\" class=\"dataframe\">\n",
       "  <thead>\n",
       "    <tr style=\"text-align: right;\">\n",
       "      <th></th>\n",
       "      <th>image_id</th>\n",
       "      <th>label</th>\n",
       "    </tr>\n",
       "  </thead>\n",
       "  <tbody>\n",
       "    <tr>\n",
       "      <td>0</td>\n",
       "      <td>S7_F07_R1_IMAG0140.JPG</td>\n",
       "      <td>elephant</td>\n",
       "    </tr>\n",
       "    <tr>\n",
       "      <td>1</td>\n",
       "      <td>CA-44_09_11_2015_CA-44_0007006.jpg</td>\n",
       "      <td>wild_boar</td>\n",
       "    </tr>\n",
       "    <tr>\n",
       "      <td>2</td>\n",
       "      <td>S10_F10_R1_IMAG1959.JPG</td>\n",
       "      <td>gazellethomosons</td>\n",
       "    </tr>\n",
       "    <tr>\n",
       "      <td>3</td>\n",
       "      <td>CA-41_08_04_2015_CA-41_0006076.jpg</td>\n",
       "      <td>squirrel</td>\n",
       "    </tr>\n",
       "    <tr>\n",
       "      <td>4</td>\n",
       "      <td>1603150213300952S194.JPG</td>\n",
       "      <td>hedgehog</td>\n",
       "    </tr>\n",
       "  </tbody>\n",
       "</table>\n",
       "</div>"
      ],
      "text/plain": [
       "                             image_id             label\n",
       "0              S7_F07_R1_IMAG0140.JPG          elephant\n",
       "1  CA-44_09_11_2015_CA-44_0007006.jpg         wild_boar\n",
       "2             S10_F10_R1_IMAG1959.JPG  gazellethomosons\n",
       "3  CA-41_08_04_2015_CA-41_0006076.jpg          squirrel\n",
       "4            1603150213300952S194.JPG          hedgehog"
      ]
     },
     "execution_count": 4,
     "metadata": {},
     "output_type": "execute_result"
    }
   ],
   "source": [
    "df.head()"
   ]
  },
  {
   "cell_type": "code",
   "execution_count": 5,
   "metadata": {},
   "outputs": [],
   "source": [
    "# remove the damaged images\n",
    "df = df[df['image_id']!='S7_T12_R1_IMAG0179.JPG']\n",
    "df = df[df['image_id']!='S10_R09_R2_IMAG2759.JPG']"
   ]
  },
  {
   "cell_type": "code",
   "execution_count": 6,
   "metadata": {},
   "outputs": [
    {
     "data": {
      "text/plain": [
       "243759"
      ]
     },
     "execution_count": 6,
     "metadata": {},
     "output_type": "execute_result"
    }
   ],
   "source": [
    "len(df)"
   ]
  },
  {
   "cell_type": "code",
   "execution_count": 7,
   "metadata": {},
   "outputs": [],
   "source": [
    "# Prepare all the animal class\n",
    "elephant = df[df['label']=='elephant']\n",
    "wild_boar = df[df['label']=='wild_boar']\n",
    "gazellethomosons = df[df['label']=='gazellethomosons']\n",
    "squirrel = df[df['label']=='squirrel']\n",
    "hedgehog= df[df['label']=='hedgehog']\n",
    "\n",
    "guineafowl = df[df['label']=='guineafowl']\n",
    "moose = df[df['label']=='moose']\n",
    "bird = df[df['label']=='bird']\n",
    "fox = df[df['label']=='fox']\n",
    "\n",
    "giraffe = df[df['label']=='giraffe']\n",
    "buffalo = df[df['label']=='buffalo']\n",
    "hare = df[df['label']=='hare']\n",
    "vehicle = df[df['label']=='vehicle']\n",
    "wildebeest = df[df['label']=='wildebeest']\n",
    "\n",
    "cattle = df[df['label']=='cattle']\n",
    "skunk = df[df['label']=='skunk']\n",
    "lion = df[df['label']=='lion']\n",
    "zebra = df[df['label']=='zebra']\n",
    "black_bear = df[df['label']=='black_bear']\n",
    "\n",
    "racoon = df[df['label']=='racoon']\n",
    "coyote = df[df['label']=='coyote']\n",
    "empty= df[df['label']=='empty']"
   ]
  },
  {
   "cell_type": "code",
   "execution_count": 27,
   "metadata": {},
   "outputs": [],
   "source": [
    "# ramdom sampling\n",
    "elephant_2k = elephant.sample(n=500,random_state=912,replace=False)\n",
    "wild_boar_2k = wild_boar.sample(n=500,random_state=912,replace=False)\n",
    "gazellethomosons_2k = gazellethomosons.sample(n=500,random_state=912,replace=False)\n",
    "squirrel_2k = squirrel.sample(n=500,random_state=912,replace=False)\n",
    "hedgehog_2k = hedgehog.sample(n=500,random_state=912,replace=False)\n",
    "\n",
    "guineafowl_2k = guineafowl.sample(n=500,random_state=912,replace=False)\n",
    "moose_2k = moose.sample(n=500,random_state=912,replace=False)\n",
    "bird_2k = bird.sample(n=500,random_state=912,replace=False)\n",
    "fox_2k = fox.sample(n=500,random_state=912,replace=False)\n",
    "\n",
    "giraffe_2k = giraffe.sample(n=500,random_state=912,replace=False)\n",
    "buffalo_2k = buffalo.sample(n=500,random_state=912,replace=False)\n",
    "hare_2k = hare.sample(n=500, random_state=912,replace=False)\n",
    "vehicle_2k = vehicle.sample(n=500,random_state=912,replace=False)\n",
    "wildebeest_2k = wildebeest.sample(n=500,random_state=912,replace=False)\n",
    "\n",
    "cattle_2k = cattle.sample(n=500,random_state=912,replace=False)\n",
    "skunk_2k = skunk.sample(n=500,random_state=912,replace=False)\n",
    "lion_2k = lion.sample(n=500,random_state=912,replace=False)\n",
    "zebra_2k = zebra.sample(n=500,random_state=912,replace=False)\n",
    "black_bear_2k = black_bear.sample(n=500,random_state=912,replace=False)\n",
    "\n",
    "racoon_2k = racoon.sample(n=500,random_state=912,replace=False)\n",
    "coyote_2k = coyote.sample(n=500,random_state=912,replace=False)\n",
    "empty_2k = empty.sample(n=500,random_state=912,replace=False)"
   ]
  },
  {
   "cell_type": "code",
   "execution_count": 28,
   "metadata": {},
   "outputs": [
    {
     "data": {
      "text/plain": [
       "500"
      ]
     },
     "execution_count": 28,
     "metadata": {},
     "output_type": "execute_result"
    }
   ],
   "source": [
    "len(cattle_2k)"
   ]
  },
  {
   "cell_type": "code",
   "execution_count": 29,
   "metadata": {},
   "outputs": [
    {
     "data": {
      "text/html": [
       "<div>\n",
       "<style scoped>\n",
       "    .dataframe tbody tr th:only-of-type {\n",
       "        vertical-align: middle;\n",
       "    }\n",
       "\n",
       "    .dataframe tbody tr th {\n",
       "        vertical-align: top;\n",
       "    }\n",
       "\n",
       "    .dataframe thead th {\n",
       "        text-align: right;\n",
       "    }\n",
       "</style>\n",
       "<table border=\"1\" class=\"dataframe\">\n",
       "  <thead>\n",
       "    <tr style=\"text-align: right;\">\n",
       "      <th></th>\n",
       "      <th>image_id</th>\n",
       "      <th>label</th>\n",
       "    </tr>\n",
       "  </thead>\n",
       "  <tbody>\n",
       "    <tr>\n",
       "      <td>31147</td>\n",
       "      <td>CA-10_08_13_2015_CA-10_0011818.jpg</td>\n",
       "      <td>cattle</td>\n",
       "    </tr>\n",
       "    <tr>\n",
       "      <td>53841</td>\n",
       "      <td>CA-43_06_21_2016_CA-43_0022339.JPG</td>\n",
       "      <td>cattle</td>\n",
       "    </tr>\n",
       "  </tbody>\n",
       "</table>\n",
       "</div>"
      ],
      "text/plain": [
       "                                 image_id   label\n",
       "31147  CA-10_08_13_2015_CA-10_0011818.jpg  cattle\n",
       "53841  CA-43_06_21_2016_CA-43_0022339.JPG  cattle"
      ]
     },
     "execution_count": 29,
     "metadata": {},
     "output_type": "execute_result"
    }
   ],
   "source": [
    "# randomly check the number of each class\n",
    "cattle_2k.head(2)"
   ]
  },
  {
   "cell_type": "code",
   "execution_count": 30,
   "metadata": {},
   "outputs": [],
   "source": [
    "# generate a mining dataframe\n",
    "df_all = pd.concat([empty_2k,racoon_2k,coyote_2k,elephant_2k,wild_boar_2k,gazellethomosons_2k,squirrel_2k,hedgehog_2k,guineafowl_2k,moose_2k,bird_2k,fox_2k,giraffe_2k,buffalo_2k,hare_2k,vehicle_2k,wildebeest_2k,cattle_2k,skunk_2k,lion_2k,zebra_2k,black_bear_2k ])"
   ]
  },
  {
   "cell_type": "code",
   "execution_count": 31,
   "metadata": {},
   "outputs": [
    {
     "data": {
      "text/plain": [
       "11000"
      ]
     },
     "execution_count": 31,
     "metadata": {},
     "output_type": "execute_result"
    }
   ],
   "source": [
    "len(df_all)"
   ]
  },
  {
   "cell_type": "code",
   "execution_count": 13,
   "metadata": {},
   "outputs": [],
   "source": [
    "# dcheck if the dataset is balanced\n",
    "df_all['label'].value_counts().plot.bar()"
   ]
  },
  {
   "cell_type": "code",
   "execution_count": 14,
   "metadata": {},
   "outputs": [],
   "source": [
    "imglist =list(df_all['image_id'])"
   ]
  },
  {
   "cell_type": "code",
   "execution_count": 32,
   "metadata": {},
   "outputs": [],
   "source": [
    "df_all.to_csv('/home/zxt/data/final_22/ml/df_all_500.csv')"
   ]
  },
  {
   "cell_type": "code",
   "execution_count": 64,
   "metadata": {},
   "outputs": [],
   "source": [
    "# split train, validate, test datasets\n",
    "train_df, validate0_df = train_test_split(df_all, test_size=0.20, random_state=522)\n",
    "train_df = train_df.reset_index(drop=True)\n",
    "validate0_df = validate0_df.reset_index(drop=True)"
   ]
  },
  {
   "cell_type": "code",
   "execution_count": 65,
   "metadata": {},
   "outputs": [],
   "source": [
    "validate_df, test_df = train_test_split(validate0_df, test_size=0.50, random_state=626)\n",
    "validate_df = validate_df.reset_index(drop=True)\n",
    "test_df = test_df.reset_index(drop=True)"
   ]
  },
  {
   "cell_type": "code",
   "execution_count": 66,
   "metadata": {},
   "outputs": [
    {
     "data": {
      "text/plain": [
       "35200"
      ]
     },
     "execution_count": 66,
     "metadata": {},
     "output_type": "execute_result"
    }
   ],
   "source": [
    "len(train_df)"
   ]
  },
  {
   "cell_type": "markdown",
   "metadata": {},
   "source": [
    "### train set"
   ]
  },
  {
   "cell_type": "code",
   "execution_count": 67,
   "metadata": {},
   "outputs": [
    {
     "data": {
      "text/plain": [
       "(35200, 32, 32, 3)"
      ]
     },
     "execution_count": 67,
     "metadata": {},
     "output_type": "execute_result"
    }
   ],
   "source": [
    "# generate desired pixels dataset\n",
    "imglist = train_df['image_id'].tolist()\n",
    "X_train = np.empty((len(imglist),32,32,3))\n",
    "X_train.shape"
   ]
  },
  {
   "cell_type": "code",
   "execution_count": 68,
   "metadata": {},
   "outputs": [
    {
     "data": {
      "text/plain": [
       "(35200, 1)"
      ]
     },
     "execution_count": 68,
     "metadata": {},
     "output_type": "execute_result"
    }
   ],
   "source": [
    "Y_train = np.empty((len(imglist),1))\n",
    "Y_train.shape"
   ]
  },
  {
   "cell_type": "code",
   "execution_count": 69,
   "metadata": {},
   "outputs": [
    {
     "name": "stdout",
     "output_type": "stream",
     "text": [
      "3000\n",
      "6000\n",
      "9000\n",
      "12000\n",
      "15000\n",
      "18000\n",
      "21000\n",
      "24000\n",
      "27000\n",
      "30000\n",
      "33000\n",
      "Running time: 66.02647614479065 seconds\n"
     ]
    }
   ],
   "source": [
    "start = time()\n",
    "\n",
    "path = '/home/zxt/data/all/resized_data/'\n",
    "count =0\n",
    "nonelist=[]\n",
    "for img_name in imglist:\n",
    "    img_path = path + img_name\n",
    "    try:\n",
    "        img = image.load_img(img_path, target_size=(32,32))\n",
    "        X_train[count]=img\n",
    "        count+=1\n",
    "        if count % 3000 == 0:\n",
    "            print(count)\n",
    "    except:\n",
    "        nonelist.append(img_path)\n",
    "        \n",
    "end = time()\n",
    "print(\"Running time: %s seconds\"%(end - start))"
   ]
  },
  {
   "cell_type": "code",
   "execution_count": 70,
   "metadata": {},
   "outputs": [
    {
     "data": {
      "text/plain": [
       "0"
      ]
     },
     "execution_count": 70,
     "metadata": {},
     "output_type": "execute_result"
    }
   ],
   "source": [
    "len(nonelist)"
   ]
  },
  {
   "cell_type": "code",
   "execution_count": 71,
   "metadata": {},
   "outputs": [
    {
     "data": {
      "text/plain": [
       "[]"
      ]
     },
     "execution_count": 71,
     "metadata": {},
     "output_type": "execute_result"
    }
   ],
   "source": [
    "nonelist"
   ]
  },
  {
   "cell_type": "code",
   "execution_count": 81,
   "metadata": {},
   "outputs": [
    {
     "data": {
      "text/plain": [
       "(35200, 1)"
      ]
     },
     "execution_count": 81,
     "metadata": {},
     "output_type": "execute_result"
    }
   ],
   "source": [
    "label = train_df['label']\n",
    "Y_train = [i for i in label]\n",
    "Y_train = np.array(Y_train)\n",
    "Y_train = Y_train.reshape(len(Y_train),1)\n",
    "Y_train.shape"
   ]
  },
  {
   "cell_type": "code",
   "execution_count": 82,
   "metadata": {},
   "outputs": [
    {
     "data": {
      "text/plain": [
       "array([['hedgehog'],\n",
       "       ['wild_boar'],\n",
       "       ['hedgehog'],\n",
       "       ...,\n",
       "       ['coyote'],\n",
       "       ['squirrel'],\n",
       "       ['racoon']], dtype='<U16')"
      ]
     },
     "execution_count": 82,
     "metadata": {},
     "output_type": "execute_result"
    }
   ],
   "source": [
    "Y_train"
   ]
  },
  {
   "cell_type": "code",
   "execution_count": 83,
   "metadata": {},
   "outputs": [],
   "source": [
    "# X_train[0]"
   ]
  },
  {
   "cell_type": "code",
   "execution_count": 84,
   "metadata": {},
   "outputs": [
    {
     "data": {
      "text/plain": [
       "35200"
      ]
     },
     "execution_count": 84,
     "metadata": {},
     "output_type": "execute_result"
    }
   ],
   "source": [
    "len(Y_train)"
   ]
  },
  {
   "cell_type": "code",
   "execution_count": 85,
   "metadata": {},
   "outputs": [
    {
     "data": {
      "text/plain": [
       "35200"
      ]
     },
     "execution_count": 85,
     "metadata": {},
     "output_type": "execute_result"
    }
   ],
   "source": [
    "len(X_train)"
   ]
  },
  {
   "cell_type": "code",
   "execution_count": 87,
   "metadata": {},
   "outputs": [],
   "source": [
    "np.save('/home/zxt/data/final_22/32/2k/X_train',X_train)\n",
    "np.save('/home/zxt/data/final_22/32/2k/Y_train',Y_train)"
   ]
  },
  {
   "cell_type": "markdown",
   "metadata": {},
   "source": [
    "### validate set"
   ]
  },
  {
   "cell_type": "code",
   "execution_count": 72,
   "metadata": {},
   "outputs": [
    {
     "data": {
      "text/plain": [
       "(4400, 2)"
      ]
     },
     "execution_count": 72,
     "metadata": {},
     "output_type": "execute_result"
    }
   ],
   "source": [
    "validate_df.shape"
   ]
  },
  {
   "cell_type": "code",
   "execution_count": 73,
   "metadata": {},
   "outputs": [
    {
     "data": {
      "text/plain": [
       "(4400, 32, 32, 3)"
      ]
     },
     "execution_count": 73,
     "metadata": {},
     "output_type": "execute_result"
    }
   ],
   "source": [
    "imglist = validate_df['image_id'].tolist()\n",
    "X_validate = np.empty((len(imglist),32,32,3))\n",
    "X_validate.shape"
   ]
  },
  {
   "cell_type": "code",
   "execution_count": 74,
   "metadata": {},
   "outputs": [
    {
     "name": "stdout",
     "output_type": "stream",
     "text": [
      "3000\n",
      "Running time: 102.75164842605591 seconds\n"
     ]
    }
   ],
   "source": [
    "start = time()\n",
    "count=0\n",
    "nonelist=[]\n",
    "path = '/home/zxt/data/all/resized_data/'\n",
    "for img_name in imglist:\n",
    "    img_path = path + img_name\n",
    "    try:\n",
    "        img = image.load_img(img_path, target_size=(32,32))\n",
    "        X_validate[count]=img\n",
    "        count+=1\n",
    "        if count % 3000 ==0:\n",
    "            print(count)\n",
    "    except:\n",
    "        nonelist.append(img_path)\n",
    "        \n",
    "end = time()\n",
    "print(\"Running time: %s seconds\"%(end - start))"
   ]
  },
  {
   "cell_type": "code",
   "execution_count": 75,
   "metadata": {},
   "outputs": [
    {
     "data": {
      "text/plain": [
       "0"
      ]
     },
     "execution_count": 75,
     "metadata": {},
     "output_type": "execute_result"
    }
   ],
   "source": [
    "len(nonelist)"
   ]
  },
  {
   "cell_type": "code",
   "execution_count": 76,
   "metadata": {},
   "outputs": [
    {
     "data": {
      "text/plain": [
       "[]"
      ]
     },
     "execution_count": 76,
     "metadata": {},
     "output_type": "execute_result"
    }
   ],
   "source": [
    "nonelist"
   ]
  },
  {
   "cell_type": "code",
   "execution_count": 88,
   "metadata": {},
   "outputs": [
    {
     "data": {
      "text/plain": [
       "(4400, 1)"
      ]
     },
     "execution_count": 88,
     "metadata": {},
     "output_type": "execute_result"
    }
   ],
   "source": [
    "label = validate_df['label']\n",
    "Y_validate = [i for i in label]\n",
    "Y_validate = np.array(Y_validate)\n",
    "Y_validate = Y_validate.reshape(len(Y_validate),1)\n",
    "Y_validate.shape"
   ]
  },
  {
   "cell_type": "code",
   "execution_count": 89,
   "metadata": {},
   "outputs": [
    {
     "data": {
      "text/plain": [
       "array([[[254., 249., 253.],\n",
       "        [254., 249., 255.],\n",
       "        [253., 248., 254.],\n",
       "        ...,\n",
       "        [210., 226., 255.],\n",
       "        [218., 225., 251.],\n",
       "        [250., 250., 250.]],\n",
       "\n",
       "       [[254., 249., 253.],\n",
       "        [254., 250., 251.],\n",
       "        [254., 250., 251.],\n",
       "        ...,\n",
       "        [255., 247., 248.],\n",
       "        [250., 250., 255.],\n",
       "        [252., 251., 255.]],\n",
       "\n",
       "       [[243., 243., 253.],\n",
       "        [254., 249., 253.],\n",
       "        [254., 249., 253.],\n",
       "        ...,\n",
       "        [255., 249., 253.],\n",
       "        [249., 250., 255.],\n",
       "        [237., 240., 247.]],\n",
       "\n",
       "       ...,\n",
       "\n",
       "       [[ 98., 106.,  65.],\n",
       "        [ 59.,  65.,  39.],\n",
       "        [ 33.,  53.,   2.],\n",
       "        ...,\n",
       "        [ 76., 113.,  44.],\n",
       "        [ 51.,  91.,  28.],\n",
       "        [ 53.,  82.,  28.]],\n",
       "\n",
       "       [[ 84.,  90.,  62.],\n",
       "        [ 71.,  82.,  52.],\n",
       "        [ 64.,  75.,  45.],\n",
       "        ...,\n",
       "        [ 55.,  74.,  44.],\n",
       "        [ 48.,  66.,  40.],\n",
       "        [ 72.,  97.,  39.]],\n",
       "\n",
       "       [[164., 164., 166.],\n",
       "        [210., 208., 211.],\n",
       "        [176., 174., 177.],\n",
       "        ...,\n",
       "        [235., 233., 236.],\n",
       "        [ 79.,  77.,  80.],\n",
       "        [213., 214., 216.]]])"
      ]
     },
     "execution_count": 89,
     "metadata": {},
     "output_type": "execute_result"
    }
   ],
   "source": [
    "X_validate[0]"
   ]
  },
  {
   "cell_type": "code",
   "execution_count": 90,
   "metadata": {},
   "outputs": [
    {
     "data": {
      "text/plain": [
       "array([['zebra'],\n",
       "       ['bird'],\n",
       "       ['empty'],\n",
       "       ...,\n",
       "       ['moose'],\n",
       "       ['skunk'],\n",
       "       ['moose']], dtype='<U16')"
      ]
     },
     "execution_count": 90,
     "metadata": {},
     "output_type": "execute_result"
    }
   ],
   "source": [
    "Y_validate"
   ]
  },
  {
   "cell_type": "code",
   "execution_count": 91,
   "metadata": {},
   "outputs": [],
   "source": [
    "np.save('/home/zxt/data/final_22/32/2k/X_validate',X_validate)\n",
    "np.save('/home/zxt/data/final_22/32/2k/Y_validate',Y_validate)"
   ]
  },
  {
   "cell_type": "markdown",
   "metadata": {},
   "source": [
    "### test set"
   ]
  },
  {
   "cell_type": "code",
   "execution_count": 77,
   "metadata": {},
   "outputs": [
    {
     "data": {
      "text/plain": [
       "(4400, 32, 32, 3)"
      ]
     },
     "execution_count": 77,
     "metadata": {},
     "output_type": "execute_result"
    }
   ],
   "source": [
    "imglist = test_df['image_id'].tolist()\n",
    "X_test = np.empty((len(imglist),32,32,3))\n",
    "X_test.shape"
   ]
  },
  {
   "cell_type": "code",
   "execution_count": 78,
   "metadata": {},
   "outputs": [
    {
     "name": "stdout",
     "output_type": "stream",
     "text": [
      "3000\n",
      "Runing time: 102.87826251983643 seconds\n"
     ]
    }
   ],
   "source": [
    "start=time()\n",
    "\n",
    "count=0\n",
    "nonelist=[]\n",
    "for img_name in imglist:\n",
    "    img_path = path + img_name\n",
    "    try:\n",
    "        img = image.load_img(img_path, target_size=(32,32))\n",
    "        X_test[count]=img\n",
    "        count+=1\n",
    "        if count % 3000 == 0:\n",
    "            print(count)\n",
    "    except:\n",
    "        nonelist.append(img_path)\n",
    "        \n",
    "end=time()\n",
    "print(\"Runing time: %s seconds\"%(end-start))"
   ]
  },
  {
   "cell_type": "code",
   "execution_count": 79,
   "metadata": {},
   "outputs": [
    {
     "data": {
      "text/plain": [
       "0"
      ]
     },
     "execution_count": 79,
     "metadata": {},
     "output_type": "execute_result"
    }
   ],
   "source": [
    "len(nonelist)"
   ]
  },
  {
   "cell_type": "code",
   "execution_count": 80,
   "metadata": {},
   "outputs": [
    {
     "data": {
      "text/plain": [
       "[]"
      ]
     },
     "execution_count": 80,
     "metadata": {},
     "output_type": "execute_result"
    }
   ],
   "source": [
    "nonelist"
   ]
  },
  {
   "cell_type": "code",
   "execution_count": 94,
   "metadata": {},
   "outputs": [
    {
     "data": {
      "text/plain": [
       "(4400, 1)"
      ]
     },
     "execution_count": 94,
     "metadata": {},
     "output_type": "execute_result"
    }
   ],
   "source": [
    "label = test_df['label']\n",
    "Y_test = [i for i in label]\n",
    "Y_test = np.array(Y_test)\n",
    "Y_test = Y_test.reshape(len(Y_test),1)\n",
    "Y_test.shape"
   ]
  },
  {
   "cell_type": "code",
   "execution_count": 95,
   "metadata": {},
   "outputs": [
    {
     "data": {
      "text/html": [
       "<div>\n",
       "<style scoped>\n",
       "    .dataframe tbody tr th:only-of-type {\n",
       "        vertical-align: middle;\n",
       "    }\n",
       "\n",
       "    .dataframe tbody tr th {\n",
       "        vertical-align: top;\n",
       "    }\n",
       "\n",
       "    .dataframe thead th {\n",
       "        text-align: right;\n",
       "    }\n",
       "</style>\n",
       "<table border=\"1\" class=\"dataframe\">\n",
       "  <thead>\n",
       "    <tr style=\"text-align: right;\">\n",
       "      <th></th>\n",
       "      <th>image_id</th>\n",
       "      <th>label</th>\n",
       "    </tr>\n",
       "  </thead>\n",
       "  <tbody>\n",
       "    <tr>\n",
       "      <td>0</td>\n",
       "      <td>S7_C11_R2_IMAG1269.JPG</td>\n",
       "      <td>guineafowl</td>\n",
       "    </tr>\n",
       "    <tr>\n",
       "      <td>1</td>\n",
       "      <td>S7_M09_R1_IMAG0181.JPG</td>\n",
       "      <td>lion</td>\n",
       "    </tr>\n",
       "  </tbody>\n",
       "</table>\n",
       "</div>"
      ],
      "text/plain": [
       "                 image_id       label\n",
       "0  S7_C11_R2_IMAG1269.JPG  guineafowl\n",
       "1  S7_M09_R1_IMAG0181.JPG        lion"
      ]
     },
     "execution_count": 95,
     "metadata": {},
     "output_type": "execute_result"
    }
   ],
   "source": [
    "test_df[:2]"
   ]
  },
  {
   "cell_type": "code",
   "execution_count": 96,
   "metadata": {},
   "outputs": [
    {
     "data": {
      "text/plain": [
       "array([['guineafowl'],\n",
       "       ['lion']], dtype='<U16')"
      ]
     },
     "execution_count": 96,
     "metadata": {},
     "output_type": "execute_result"
    }
   ],
   "source": [
    "Y_test[:2]"
   ]
  },
  {
   "cell_type": "code",
   "execution_count": 97,
   "metadata": {},
   "outputs": [
    {
     "data": {
      "text/plain": [
       "array([[[113., 131., 155.],\n",
       "        [118., 134., 159.],\n",
       "        [117., 133., 158.],\n",
       "        ...,\n",
       "        [172., 185., 191.],\n",
       "        [155., 168., 177.],\n",
       "        [156., 170., 181.]],\n",
       "\n",
       "       [[124., 138., 164.],\n",
       "        [115., 131., 156.],\n",
       "        [119., 135., 160.],\n",
       "        ...,\n",
       "        [143., 160., 168.],\n",
       "        [137., 153., 166.],\n",
       "        [131., 149., 163.]],\n",
       "\n",
       "       [[126., 139., 158.],\n",
       "        [126., 138., 164.],\n",
       "        [131., 139., 160.],\n",
       "        ...,\n",
       "        [132., 150., 164.],\n",
       "        [123., 140., 156.],\n",
       "        [109., 129., 153.]],\n",
       "\n",
       "       ...,\n",
       "\n",
       "       [[154., 109.,  67.],\n",
       "        [133.,  90.,  47.],\n",
       "        [170., 132.,  87.],\n",
       "        ...,\n",
       "        [107.,  76.,  32.],\n",
       "        [103.,  62.,  16.],\n",
       "        [ 92.,  50.,  10.]],\n",
       "\n",
       "       [[137., 111.,  88.],\n",
       "        [105.,  78.,  57.],\n",
       "        [138., 112.,  87.],\n",
       "        ...,\n",
       "        [ 96.,  75.,  48.],\n",
       "        [137., 116.,  85.],\n",
       "        [ 83.,  66.,  46.]],\n",
       "\n",
       "       [[206., 208., 207.],\n",
       "        [185., 186., 190.],\n",
       "        [214., 216., 215.],\n",
       "        ...,\n",
       "        [218., 219., 223.],\n",
       "        [ 88.,  89.,  91.],\n",
       "        [191., 192., 197.]]])"
      ]
     },
     "execution_count": 97,
     "metadata": {},
     "output_type": "execute_result"
    }
   ],
   "source": [
    "X_test[0]"
   ]
  },
  {
   "cell_type": "code",
   "execution_count": 100,
   "metadata": {},
   "outputs": [],
   "source": [
    "np.save('/home/zxt/data/final_22/32/2k/X_test',X_test)\n",
    "np.save('/home/zxt/data/final_22/32/2k/Y_test',Y_test)"
   ]
  },
  {
   "cell_type": "code",
   "execution_count": null,
   "metadata": {},
   "outputs": [],
   "source": []
  }
 ],
 "metadata": {
  "kernelspec": {
   "display_name": "Python 3",
   "language": "python",
   "name": "python3"
  },
  "language_info": {
   "codemirror_mode": {
    "name": "ipython",
    "version": 3
   },
   "file_extension": ".py",
   "mimetype": "text/x-python",
   "name": "python",
   "nbconvert_exporter": "python",
   "pygments_lexer": "ipython3",
   "version": "3.7.4"
  }
 },
 "nbformat": 4,
 "nbformat_minor": 4
}
